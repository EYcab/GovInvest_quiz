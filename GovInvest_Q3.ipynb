{
 "cells": [
  {
   "cell_type": "code",
   "execution_count": 1,
   "metadata": {
    "collapsed": true
   },
   "outputs": [],
   "source": [
    "import numpy as np\n",
    "from pandas import Series,DataFrame\n",
    "import pandas as pd\n",
    "import math"
   ]
  },
  {
   "cell_type": "code",
   "execution_count": 2,
   "metadata": {
    "collapsed": false
   },
   "outputs": [],
   "source": [
    "#Below is n is \"number of years\", and I number them in yr_list\n",
    "n = 15\n",
    "yr_list = [i for i in range(1,n+1)]\n",
    "#print yr_list"
   ]
  },
  {
   "cell_type": "code",
   "execution_count": 3,
   "metadata": {
    "collapsed": false
   },
   "outputs": [],
   "source": [
    "A_initial_survival_prob = .95\n",
    "B_initial_survival_prob = .98\n",
    "A_yearly_decrease = .02\n",
    "B_yearly_decrease = .01\n",
    "Annual_payment_on_each_survival = 5000\n",
    "discount = .05\n",
    "v = 1-.05\n",
    "# print v\n",
    "\n",
    "# we use the two annuity technique, the expected value of the annuity is: the sum PV of each individual's annuity MINUS \n",
    "# the sum PV of the joint-life Annuity\n",
    "# since the annual_payment is 10000 for both, when they are both alive,\n",
    "# we find the payment value of the joint-life annuity is 0. So, as for this case,we only have to add up the PV of \n",
    "# each individual's annuity"
   ]
  },
  {
   "cell_type": "code",
   "execution_count": 4,
   "metadata": {
    "collapsed": true
   },
   "outputs": [],
   "source": [
    "# A defined function is to calculate the survival probability for each year based on the last year\n",
    "def survival_prob_yearly(num_years,p,p_decrease_rate):\n",
    "    survivial_prob_each_yr_list = [p*math.pow((1-p_decrease_rate),i) for i in xrange(num_years)]\n",
    "    return survivial_prob_each_yr_list"
   ]
  },
  {
   "cell_type": "code",
   "execution_count": 5,
   "metadata": {
    "collapsed": false
   },
   "outputs": [
    {
     "data": {
      "text/html": [
       "<div>\n",
       "<table border=\"1\" class=\"dataframe\">\n",
       "  <thead>\n",
       "    <tr style=\"text-align: right;\">\n",
       "      <th></th>\n",
       "      <th>year</th>\n",
       "    </tr>\n",
       "  </thead>\n",
       "  <tbody>\n",
       "    <tr>\n",
       "      <th>0</th>\n",
       "      <td>1</td>\n",
       "    </tr>\n",
       "    <tr>\n",
       "      <th>1</th>\n",
       "      <td>2</td>\n",
       "    </tr>\n",
       "    <tr>\n",
       "      <th>2</th>\n",
       "      <td>3</td>\n",
       "    </tr>\n",
       "    <tr>\n",
       "      <th>3</th>\n",
       "      <td>4</td>\n",
       "    </tr>\n",
       "    <tr>\n",
       "      <th>4</th>\n",
       "      <td>5</td>\n",
       "    </tr>\n",
       "    <tr>\n",
       "      <th>5</th>\n",
       "      <td>6</td>\n",
       "    </tr>\n",
       "    <tr>\n",
       "      <th>6</th>\n",
       "      <td>7</td>\n",
       "    </tr>\n",
       "    <tr>\n",
       "      <th>7</th>\n",
       "      <td>8</td>\n",
       "    </tr>\n",
       "    <tr>\n",
       "      <th>8</th>\n",
       "      <td>9</td>\n",
       "    </tr>\n",
       "    <tr>\n",
       "      <th>9</th>\n",
       "      <td>10</td>\n",
       "    </tr>\n",
       "    <tr>\n",
       "      <th>10</th>\n",
       "      <td>11</td>\n",
       "    </tr>\n",
       "    <tr>\n",
       "      <th>11</th>\n",
       "      <td>12</td>\n",
       "    </tr>\n",
       "    <tr>\n",
       "      <th>12</th>\n",
       "      <td>13</td>\n",
       "    </tr>\n",
       "    <tr>\n",
       "      <th>13</th>\n",
       "      <td>14</td>\n",
       "    </tr>\n",
       "    <tr>\n",
       "      <th>14</th>\n",
       "      <td>15</td>\n",
       "    </tr>\n",
       "  </tbody>\n",
       "</table>\n",
       "</div>"
      ],
      "text/plain": [
       "    year\n",
       "0      1\n",
       "1      2\n",
       "2      3\n",
       "3      4\n",
       "4      5\n",
       "5      6\n",
       "6      7\n",
       "7      8\n",
       "8      9\n",
       "9     10\n",
       "10    11\n",
       "11    12\n",
       "12    13\n",
       "13    14\n",
       "14    15"
      ]
     },
     "execution_count": 5,
     "metadata": {},
     "output_type": "execute_result"
    }
   ],
   "source": [
    "data = pd.DataFrame(yr_list, columns=[\"year\"]) \n",
    "data"
   ]
  },
  {
   "cell_type": "code",
   "execution_count": 6,
   "metadata": {
    "collapsed": false
   },
   "outputs": [
    {
     "name": "stdout",
     "output_type": "stream",
     "text": [
      "[0.95, 0.9309999999999999, 0.9123799999999999, 0.8941323999999998, 0.8762497519999999, 0.8587247569599998, 0.8415502618207998, 0.8247192565843839, 0.8082248714526962, 0.7920603740236423, 0.7762191665431694, 0.760694783212306, 0.7454808875480599, 0.7305712697970986, 0.7159598444011566]\n",
      "[0.98, 0.9702, 0.960498, 0.95089302, 0.9413840897999999, 0.9319702489019999, 0.9226505464129799, 0.9134240409488501, 0.9042898005393617, 0.895246902533968, 0.8862944335086284, 0.8774314891735421, 0.8686571742818067, 0.8599706025389885, 0.8513708965135987]\n"
     ]
    }
   ],
   "source": [
    "#the result after applying the above function\n",
    "A_Prob_yearly = survival_prob_yearly(n,A_initial_survival_prob,A_yearly_decrease)\n",
    "B_Prob_yearly = survival_prob_yearly(n,B_initial_survival_prob,B_yearly_decrease)\n",
    "print A_Prob_yearly\n",
    "print B_Prob_yearly"
   ]
  },
  {
   "cell_type": "code",
   "execution_count": 7,
   "metadata": {
    "collapsed": false
   },
   "outputs": [
    {
     "data": {
      "text/html": [
       "<div>\n",
       "<table border=\"1\" class=\"dataframe\">\n",
       "  <thead>\n",
       "    <tr style=\"text-align: right;\">\n",
       "      <th></th>\n",
       "      <th>year</th>\n",
       "      <th>A's_Yearly_Survival_Probability</th>\n",
       "      <th>B's_Yearly_Survival_Probability</th>\n",
       "    </tr>\n",
       "  </thead>\n",
       "  <tbody>\n",
       "    <tr>\n",
       "      <th>0</th>\n",
       "      <td>1</td>\n",
       "      <td>0.950000</td>\n",
       "      <td>0.980000</td>\n",
       "    </tr>\n",
       "    <tr>\n",
       "      <th>1</th>\n",
       "      <td>2</td>\n",
       "      <td>0.931000</td>\n",
       "      <td>0.970200</td>\n",
       "    </tr>\n",
       "    <tr>\n",
       "      <th>2</th>\n",
       "      <td>3</td>\n",
       "      <td>0.912380</td>\n",
       "      <td>0.960498</td>\n",
       "    </tr>\n",
       "    <tr>\n",
       "      <th>3</th>\n",
       "      <td>4</td>\n",
       "      <td>0.894132</td>\n",
       "      <td>0.950893</td>\n",
       "    </tr>\n",
       "    <tr>\n",
       "      <th>4</th>\n",
       "      <td>5</td>\n",
       "      <td>0.876250</td>\n",
       "      <td>0.941384</td>\n",
       "    </tr>\n",
       "    <tr>\n",
       "      <th>5</th>\n",
       "      <td>6</td>\n",
       "      <td>0.858725</td>\n",
       "      <td>0.931970</td>\n",
       "    </tr>\n",
       "    <tr>\n",
       "      <th>6</th>\n",
       "      <td>7</td>\n",
       "      <td>0.841550</td>\n",
       "      <td>0.922651</td>\n",
       "    </tr>\n",
       "    <tr>\n",
       "      <th>7</th>\n",
       "      <td>8</td>\n",
       "      <td>0.824719</td>\n",
       "      <td>0.913424</td>\n",
       "    </tr>\n",
       "    <tr>\n",
       "      <th>8</th>\n",
       "      <td>9</td>\n",
       "      <td>0.808225</td>\n",
       "      <td>0.904290</td>\n",
       "    </tr>\n",
       "    <tr>\n",
       "      <th>9</th>\n",
       "      <td>10</td>\n",
       "      <td>0.792060</td>\n",
       "      <td>0.895247</td>\n",
       "    </tr>\n",
       "    <tr>\n",
       "      <th>10</th>\n",
       "      <td>11</td>\n",
       "      <td>0.776219</td>\n",
       "      <td>0.886294</td>\n",
       "    </tr>\n",
       "    <tr>\n",
       "      <th>11</th>\n",
       "      <td>12</td>\n",
       "      <td>0.760695</td>\n",
       "      <td>0.877431</td>\n",
       "    </tr>\n",
       "    <tr>\n",
       "      <th>12</th>\n",
       "      <td>13</td>\n",
       "      <td>0.745481</td>\n",
       "      <td>0.868657</td>\n",
       "    </tr>\n",
       "    <tr>\n",
       "      <th>13</th>\n",
       "      <td>14</td>\n",
       "      <td>0.730571</td>\n",
       "      <td>0.859971</td>\n",
       "    </tr>\n",
       "    <tr>\n",
       "      <th>14</th>\n",
       "      <td>15</td>\n",
       "      <td>0.715960</td>\n",
       "      <td>0.851371</td>\n",
       "    </tr>\n",
       "  </tbody>\n",
       "</table>\n",
       "</div>"
      ],
      "text/plain": [
       "    year  A's_Yearly_Survival_Probability  B's_Yearly_Survival_Probability\n",
       "0      1                         0.950000                         0.980000\n",
       "1      2                         0.931000                         0.970200\n",
       "2      3                         0.912380                         0.960498\n",
       "3      4                         0.894132                         0.950893\n",
       "4      5                         0.876250                         0.941384\n",
       "5      6                         0.858725                         0.931970\n",
       "6      7                         0.841550                         0.922651\n",
       "7      8                         0.824719                         0.913424\n",
       "8      9                         0.808225                         0.904290\n",
       "9     10                         0.792060                         0.895247\n",
       "10    11                         0.776219                         0.886294\n",
       "11    12                         0.760695                         0.877431\n",
       "12    13                         0.745481                         0.868657\n",
       "13    14                         0.730571                         0.859971\n",
       "14    15                         0.715960                         0.851371"
      ]
     },
     "execution_count": 7,
     "metadata": {},
     "output_type": "execute_result"
    }
   ],
   "source": [
    "# add my Yearly_Survival_Probability to the data frame\n",
    "data[\"A's_Yearly_Survival_Probability\"] = A_Prob_yearly\n",
    "data[\"B's_Yearly_Survival_Probability\"] = B_Prob_yearly\n",
    "data"
   ]
  },
  {
   "cell_type": "code",
   "execution_count": 8,
   "metadata": {
    "collapsed": false
   },
   "outputs": [
    {
     "name": "stdout",
     "output_type": "stream",
     "text": [
      "[0.95, 0.8844499999999998, 0.8069544909999997, 0.7215241557286081, 0.6322353625192021, 0.5429161580208192, 0.4568912349291631, 0.3768069996107005, 0.3045447888228346, 0.24121785934196552, 0.18723792573374792, 0.14243091332515523, 0.10617952367991751, 0.07757170944128844, 0.055538229021516596]\n",
      "[0.98, 0.950796, 0.9132376564079999, 0.8683913130795253, 0.8174897658535957, 0.7618761405574132, 0.7029454373843096, 0.642087261982133, 0.5806329620666879, 0.5198098607993252, 0.4607045861093369, 0.40423671105899583, 0.3511431191694785, 0.30197275976959626, 0.2570908192077267]\n",
      "[4512.5, 3991.0806249999987, 3459.3130336056233, 2938.4296718346227, 2446.0583576538024, 1995.4663252519256, 1595.32094804683, 1249.9073109723424, 959.6958669514862, 722.1302139602109, 532.5047471750436, 384.81990405125146, 272.53208943737184, 189.14890890868134, 128.65187222136262]\n",
      "[4655.0, 4290.466949999999, 3914.9356783140443, 3536.5507597449005, 3162.789987094253, 2800.2448629221344, 2454.465080221985, 2129.869041346999, 1829.717908045907, 1556.1468252045784, 1310.244055455895, 1092.1669231214746, 901.2827016186176, 736.3227965704834, 595.5396094676319]\n"
     ]
    }
   ],
   "source": [
    "#the survival probability of a life till a later year since the current year\n",
    "# survival probability with the starting year as the baseline\n",
    "def survival_prob_till_the_year(prob,Annual_payment_on_each_survival,factor):\n",
    "    j = 1\n",
    "    p_proc = 1\n",
    "    survivial_prob_accum = []\n",
    "    PV_of_future_CF = []\n",
    "    for item in prob:\n",
    "        p_proc = item * p_proc\n",
    "        PV_of_its_CF = p_proc*Annual_payment_on_each_survival*math.pow(factor,j)\n",
    "        survivial_prob_accum.append(p_proc)\n",
    "        PV_of_future_CF.append(PV_of_its_CF)\n",
    "        j +=1\n",
    "    return survivial_prob_accum, PV_of_future_CF\n",
    "#Apply the function to our yearly survival probability\n",
    "A_survival_prob_till_the_year,A_PV_of_its_future_CF = survival_prob_till_the_year(A_Prob_yearly,Annual_payment_on_each_survival,v)\n",
    "B_survival_prob_till_the_year,B_PV_of_its_future_CF = survival_prob_till_the_year(B_Prob_yearly,Annual_payment_on_each_survival,v)\n",
    "print A_survival_prob_till_the_year\n",
    "print B_survival_prob_till_the_year\n",
    "print A_PV_of_its_future_CF \n",
    "print B_PV_of_its_future_CF "
   ]
  },
  {
   "cell_type": "code",
   "execution_count": 9,
   "metadata": {
    "collapsed": false
   },
   "outputs": [
    {
     "name": "stdout",
     "output_type": "stream",
     "text": [
      "0     9167.500000\n",
      "1     8281.547575\n",
      "2     7374.248712\n",
      "3     6474.980432\n",
      "4     5608.848345\n",
      "5     4795.711188\n",
      "6     4049.786028\n",
      "7     3379.776352\n",
      "8     2789.413775\n",
      "9     2278.277039\n",
      "10    1842.748803\n",
      "11    1476.986827\n",
      "12    1173.814791\n",
      "13     925.471705\n",
      "14     724.191482\n",
      "dtype: float64\n"
     ]
    }
   ],
   "source": [
    "#Use Series to sum up our PV of its expected future CF \n",
    "PV_of_the_whole_future_CF_yearly = Series(A_PV_of_its_future_CF)+ Series(B_PV_of_its_future_CF)\n",
    "print PV_of_the_whole_future_CF_yearly"
   ]
  },
  {
   "cell_type": "code",
   "execution_count": 10,
   "metadata": {
    "collapsed": false
   },
   "outputs": [
    {
     "data": {
      "text/html": [
       "<div>\n",
       "<table border=\"1\" class=\"dataframe\">\n",
       "  <thead>\n",
       "    <tr style=\"text-align: right;\">\n",
       "      <th></th>\n",
       "      <th>year</th>\n",
       "      <th>A's_Yearly_Survival_Probability</th>\n",
       "      <th>B's_Yearly_Survival_Probability</th>\n",
       "      <th>PV(future CF)</th>\n",
       "    </tr>\n",
       "  </thead>\n",
       "  <tbody>\n",
       "    <tr>\n",
       "      <th>0</th>\n",
       "      <td>1</td>\n",
       "      <td>0.950000</td>\n",
       "      <td>0.980000</td>\n",
       "      <td>9167.500000</td>\n",
       "    </tr>\n",
       "    <tr>\n",
       "      <th>1</th>\n",
       "      <td>2</td>\n",
       "      <td>0.931000</td>\n",
       "      <td>0.970200</td>\n",
       "      <td>8281.547575</td>\n",
       "    </tr>\n",
       "    <tr>\n",
       "      <th>2</th>\n",
       "      <td>3</td>\n",
       "      <td>0.912380</td>\n",
       "      <td>0.960498</td>\n",
       "      <td>7374.248712</td>\n",
       "    </tr>\n",
       "    <tr>\n",
       "      <th>3</th>\n",
       "      <td>4</td>\n",
       "      <td>0.894132</td>\n",
       "      <td>0.950893</td>\n",
       "      <td>6474.980432</td>\n",
       "    </tr>\n",
       "    <tr>\n",
       "      <th>4</th>\n",
       "      <td>5</td>\n",
       "      <td>0.876250</td>\n",
       "      <td>0.941384</td>\n",
       "      <td>5608.848345</td>\n",
       "    </tr>\n",
       "    <tr>\n",
       "      <th>5</th>\n",
       "      <td>6</td>\n",
       "      <td>0.858725</td>\n",
       "      <td>0.931970</td>\n",
       "      <td>4795.711188</td>\n",
       "    </tr>\n",
       "    <tr>\n",
       "      <th>6</th>\n",
       "      <td>7</td>\n",
       "      <td>0.841550</td>\n",
       "      <td>0.922651</td>\n",
       "      <td>4049.786028</td>\n",
       "    </tr>\n",
       "    <tr>\n",
       "      <th>7</th>\n",
       "      <td>8</td>\n",
       "      <td>0.824719</td>\n",
       "      <td>0.913424</td>\n",
       "      <td>3379.776352</td>\n",
       "    </tr>\n",
       "    <tr>\n",
       "      <th>8</th>\n",
       "      <td>9</td>\n",
       "      <td>0.808225</td>\n",
       "      <td>0.904290</td>\n",
       "      <td>2789.413775</td>\n",
       "    </tr>\n",
       "    <tr>\n",
       "      <th>9</th>\n",
       "      <td>10</td>\n",
       "      <td>0.792060</td>\n",
       "      <td>0.895247</td>\n",
       "      <td>2278.277039</td>\n",
       "    </tr>\n",
       "    <tr>\n",
       "      <th>10</th>\n",
       "      <td>11</td>\n",
       "      <td>0.776219</td>\n",
       "      <td>0.886294</td>\n",
       "      <td>1842.748803</td>\n",
       "    </tr>\n",
       "    <tr>\n",
       "      <th>11</th>\n",
       "      <td>12</td>\n",
       "      <td>0.760695</td>\n",
       "      <td>0.877431</td>\n",
       "      <td>1476.986827</td>\n",
       "    </tr>\n",
       "    <tr>\n",
       "      <th>12</th>\n",
       "      <td>13</td>\n",
       "      <td>0.745481</td>\n",
       "      <td>0.868657</td>\n",
       "      <td>1173.814791</td>\n",
       "    </tr>\n",
       "    <tr>\n",
       "      <th>13</th>\n",
       "      <td>14</td>\n",
       "      <td>0.730571</td>\n",
       "      <td>0.859971</td>\n",
       "      <td>925.471705</td>\n",
       "    </tr>\n",
       "    <tr>\n",
       "      <th>14</th>\n",
       "      <td>15</td>\n",
       "      <td>0.715960</td>\n",
       "      <td>0.851371</td>\n",
       "      <td>724.191482</td>\n",
       "    </tr>\n",
       "  </tbody>\n",
       "</table>\n",
       "</div>"
      ],
      "text/plain": [
       "    year  A's_Yearly_Survival_Probability  B's_Yearly_Survival_Probability  \\\n",
       "0      1                         0.950000                         0.980000   \n",
       "1      2                         0.931000                         0.970200   \n",
       "2      3                         0.912380                         0.960498   \n",
       "3      4                         0.894132                         0.950893   \n",
       "4      5                         0.876250                         0.941384   \n",
       "5      6                         0.858725                         0.931970   \n",
       "6      7                         0.841550                         0.922651   \n",
       "7      8                         0.824719                         0.913424   \n",
       "8      9                         0.808225                         0.904290   \n",
       "9     10                         0.792060                         0.895247   \n",
       "10    11                         0.776219                         0.886294   \n",
       "11    12                         0.760695                         0.877431   \n",
       "12    13                         0.745481                         0.868657   \n",
       "13    14                         0.730571                         0.859971   \n",
       "14    15                         0.715960                         0.851371   \n",
       "\n",
       "    PV(future CF)  \n",
       "0     9167.500000  \n",
       "1     8281.547575  \n",
       "2     7374.248712  \n",
       "3     6474.980432  \n",
       "4     5608.848345  \n",
       "5     4795.711188  \n",
       "6     4049.786028  \n",
       "7     3379.776352  \n",
       "8     2789.413775  \n",
       "9     2278.277039  \n",
       "10    1842.748803  \n",
       "11    1476.986827  \n",
       "12    1173.814791  \n",
       "13     925.471705  \n",
       "14     724.191482  "
      ]
     },
     "execution_count": 10,
     "metadata": {},
     "output_type": "execute_result"
    }
   ],
   "source": [
    "#add the column to our data frame\n",
    "data['PV(future CF)']= PV_of_the_whole_future_CF_yearly \n",
    "data"
   ]
  },
  {
   "cell_type": "code",
   "execution_count": 15,
   "metadata": {
    "collapsed": false
   },
   "outputs": [
    {
     "name": "stdout",
     "output_type": "stream",
     "text": [
      "PV of the annuity: 60343.3\n"
     ]
    }
   ],
   "source": [
    "# Here is our final result:\n",
    "\n",
    "print \"PV of the annuity:\", round(sum(PV_of_the_whole_future_CF_yearly),2)"
   ]
  },
  {
   "cell_type": "code",
   "execution_count": 12,
   "metadata": {
    "collapsed": false
   },
   "outputs": [
    {
     "data": {
      "image/png": "[encoded data removed]",
      "text/plain": [
       "<matplotlib.figure.Figure at 0xa4ba4e0>"
      ]
     },
     "metadata": {},
     "output_type": "display_data"
    },
    {
     "data": {
      "text/plain": [
       "<matplotlib.figure.Figure at 0xbb38dd8>"
      ]
     },
     "metadata": {},
     "output_type": "display_data"
    }
   ],
   "source": [
    "#Use matplotlib to visualize our PV(future CF)\n",
    "import matplotlib.pyplot as plt\n",
    "%matplotlib inline\n",
    "width = 1/1.5\n",
    "plt.bar(yr_list, PV_of_the_whole_future_CF_yearly, width, color=\"blue\")\n",
    "\n",
    "fig = plt.figure()"
   ]
  },
  {
   "cell_type": "code",
   "execution_count": null,
   "metadata": {
    "collapsed": true
   },
   "outputs": [],
   "source": []
  }
 ],
 "metadata": {
  "kernelspec": {
   "display_name": "Python 2",
   "language": "python",
   "name": "python2"
  },
  "language_info": {
   "codemirror_mode": {
    "name": "ipython",
    "version": 2
   },
   "file_extension": ".py",
   "mimetype": "text/x-python",
   "name": "python",
   "nbconvert_exporter": "python",
   "pygments_lexer": "ipython2",
   "version": "2.7.10"
  }
 },
 "nbformat": 4,
 "nbformat_minor": 0
}
